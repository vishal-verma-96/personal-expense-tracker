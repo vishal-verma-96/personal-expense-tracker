{
 "cells": [
  {
   "cell_type": "code",
   "execution_count": 25,
   "id": "a75d942a",
   "metadata": {},
   "outputs": [],
   "source": [
    "import pandas as pd\n",
    "import os\n",
    "from datetime import datetime\n",
    "from prettytable import PrettyTable\n",
    "\n",
    "import warnings\n",
    "warnings.filterwarnings(\"ignore\")"
   ]
  },
  {
   "cell_type": "code",
   "execution_count": null,
   "id": "b8784ee2",
   "metadata": {},
   "outputs": [],
   "source": [
    "def add_expense(df):\n",
    "    while True:\n",
    "        try:\n",
    "            day = int(input(\"📅 Enter day (1-31): \"))\n",
    "            month = int(input(\"📅 Enter month (1-12): \"))\n",
    "            year = int(input(\"📅 Enter year (e.g., 2025): \"))\n",
    "            date_obj = datetime(year, month, day)\n",
    "            date = date_obj.strftime(\"%d-%b-%Y\")\n",
    "            break\n",
    "        except ValueError:\n",
    "            print(\"❌ Invalid date. Please enter valid day, month, and year.\")\n",
    "\n",
    "    category = input(\"📂 Enter category (For eg:- Fooding, Shopping etc): \").title()\n",
    "    \n",
    "    item = input(\"📝 Enter Item: \").title()\n",
    "    while True:\n",
    "        try:\n",
    "            amount = float(input(\"💲 Enter amount: \"))\n",
    "            break\n",
    "        except ValueError:\n",
    "            print(\"❌ Invalid amount. Please enter in numbers.\")\n",
    "\n",
    "    new_entry = pd.DataFrame([[date, category, item, amount]], columns=df.columns)\n",
    "    df = pd.concat([df, new_entry], ignore_index=True)\n",
    "    print(\"✅ Expense added!\\n\")\n",
    "    return df"
   ]
  },
  {
   "cell_type": "code",
   "execution_count": 27,
   "id": "8230fe59",
   "metadata": {},
   "outputs": [],
   "source": [
    "def show_expenses(df):\n",
    "    if df.empty:\n",
    "        print(\"🗋 No expenses recorded yet.\\n\")\n",
    "        return\n",
    "\n",
    "    table = PrettyTable()\n",
    "    table.field_names = df.columns.tolist()\n",
    "    for _, row in df.iterrows():\n",
    "        table.add_row(row.tolist())\n",
    "    print(\"\\n📄 All Expenses:\")\n",
    "    print(table)"
   ]
  },
  {
   "cell_type": "code",
   "execution_count": 28,
   "id": "ef5ee691",
   "metadata": {},
   "outputs": [],
   "source": [
    "def summary(df, budget):\n",
    "    if df.empty:\n",
    "        print(\"🙅 No expenses to summarize.\\n\")\n",
    "        return\n",
    "\n",
    "    summary = df.groupby(\"Category\")[\"Amount\"].sum().reset_index()\n",
    "    total_spent = df[\"Amount\"].sum()\n",
    "\n",
    "    print(\"\\n 💳 Spending Summary by Category:\")\n",
    "    table = PrettyTable()\n",
    "    table.field_names = [\"Category\", \"Total Spent (₹)\"]\n",
    "    for _, row in summary.iterrows():\n",
    "        table.add_row([row[\"Category\"], f\"{row['Amount']:.2f}\"])\n",
    "    print(table)\n",
    "\n",
    "    print(f\"\\n🤑 Monthly Budget: ₹{budget:.2f}\")\n",
    "    print(f\"💸 Total Spent: ₹{total_spent:.2f}\")\n",
    "    \n",
    "    remaining = budget - total_spent\n",
    "    if remaining > 0.7 * budget:\n",
    "        print(f\"🥳 Remaining Budget: ₹{remaining:.2f}\\n\")\n",
    "    elif 0.4 * budget < remaining <= 0.7 * budget:\n",
    "        print(f\"😲 Remaining Budget: ₹{remaining:.2f}\\n\")\n",
    "    else:\n",
    "        print(f\"😰 Remaining Budget: ₹{remaining:.2f}\\n\")"
   ]
  },
  {
   "cell_type": "code",
   "execution_count": 29,
   "id": "7fb5db34",
   "metadata": {},
   "outputs": [],
   "source": [
    "def load_file():\n",
    "    if os.path.exists(EXPENSE_FILE):\n",
    "        return pd.read_csv(EXPENSE_FILE)\n",
    "    else:\n",
    "        return pd.DataFrame(columns=[\"Date\", \"Category\", \"Item\", \"Amount\"])"
   ]
  },
  {
   "cell_type": "code",
   "execution_count": 30,
   "id": "38c38d76",
   "metadata": {},
   "outputs": [],
   "source": [
    "def save_data(df):\n",
    "    df.to_csv(EXPENSE_FILE, index=False)"
   ]
  },
  {
   "cell_type": "code",
   "execution_count": null,
   "id": "b22209dd",
   "metadata": {},
   "outputs": [],
   "source": [
    "def main():\n",
    "    file_name = \"expenses.csv\"\n",
    "    dir = r\"C:\\Users\\Legion\\Downloads\\My workspace\"\n",
    "    csv_file = os.path.join(dir,file_name)\n",
    "    global EXPENSE_FILE\n",
    "    EXPENSE_FILE = csv_file\n",
    "    \n",
    "    df = load_file()\n",
    "    print(\"👉 Welcome to Personal Expense Tracker 👈\")\n",
    "    while True:\n",
    "        try:\n",
    "            budget = float(input(\"💰 Set your monthly budget (₹): \"))\n",
    "            break\n",
    "        except ValueError:\n",
    "            print(\"❌ Invalid input. Please enter a valid number.\")\n",
    "\n",
    "    while True:\n",
    "        choice = input(\n",
    "            \"\\n📌 Menu:\\n\"\n",
    "            \"1️⃣ for Add Expense\\n\"\n",
    "            \"2️⃣ for View items along with its details\\n\"\n",
    "            \"3️⃣ for Summary\\n\"\n",
    "            \"4️⃣ for Save and Exit\\n\"\n",
    "            \"👉 Enter your choice (1-4): \"\n",
    "        )\n",
    "\n",
    "        if choice == '1':\n",
    "            df = add_expense(df)\n",
    "        elif choice == '2':\n",
    "            show_expenses(df)\n",
    "        elif choice == '3':\n",
    "            summary(df, budget)\n",
    "        elif choice == '4':\n",
    "            save_data(df)\n",
    "            if df.empty:\n",
    "                print(\"❗ No expenses recorded to save.\")\n",
    "            else:\n",
    "                print(f\"✅️ Data saved succesfully in {file_name}.\")\n",
    "            print(\"-\"*43)\n",
    "            print(\"Goodbye! Have a great day.😊\")\n",
    "            break\n",
    "        else:\n",
    "            print(\"❌ Invalid choice. Please try again.\")"
   ]
  },
  {
   "cell_type": "code",
   "execution_count": 32,
   "id": "a48355b5",
   "metadata": {
    "scrolled": true
   },
   "outputs": [
    {
     "name": "stdout",
     "output_type": "stream",
     "text": [
      "👉 Welcome to Personal Expense Tracker 👈\n",
      "❌ Invalid date. Please enter valid day, month, and year.\n",
      "✅ Expense added!\n",
      "\n",
      "✅ Expense added!\n",
      "\n",
      "\n",
      "📄 All Expenses:\n",
      "+-------------+---------------+--------+--------+\n",
      "|     Date    |    Category   |  Item  | Amount |\n",
      "+-------------+---------------+--------+--------+\n",
      "| 24-Oct-2024 |    Fooding    | Pasta  | 204.0  |\n",
      "| 24-Oct-2024 | Entertainment | Gaming | 400.0  |\n",
      "+-------------+---------------+--------+--------+\n",
      "\n",
      " 💳 Spending Summary by Category:\n",
      "+---------------+-----------------+\n",
      "|    Category   | Total Spent (₹) |\n",
      "+---------------+-----------------+\n",
      "| Entertainment |      400.00     |\n",
      "|    Fooding    |      204.00     |\n",
      "+---------------+-----------------+\n",
      "\n",
      "🤑 Monthly Budget: ₹1000.00\n",
      "💸 Total Spent: ₹604.00\n",
      "😰 Remaining Budget: ₹396.00\n",
      "\n",
      "✅️ Data saved succesfully in expenses.csv.\n",
      "------------------------------\n",
      "Goodbye! Have a great day.😊\n"
     ]
    }
   ],
   "source": [
    "if __name__ == \"__main__\":\n",
    "    main()"
   ]
  }
 ],
 "metadata": {
  "kernelspec": {
   "display_name": "base",
   "language": "python",
   "name": "python3"
  },
  "language_info": {
   "codemirror_mode": {
    "name": "ipython",
    "version": 3
   },
   "file_extension": ".py",
   "mimetype": "text/x-python",
   "name": "python",
   "nbconvert_exporter": "python",
   "pygments_lexer": "ipython3",
   "version": "3.12.11"
  }
 },
 "nbformat": 4,
 "nbformat_minor": 5
}
